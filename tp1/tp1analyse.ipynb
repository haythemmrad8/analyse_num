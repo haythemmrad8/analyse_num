{
 "cells": [
  {
   "cell_type": "markdown",
   "metadata": {},
   "source": [
    "# <center> <span style=\"color:red\"> Compte rendu TP1 Analyse Numérique </span> </center>"
   ]
  },
  {
   "cell_type": "markdown",
   "metadata": {},
   "source": [
    "<hr>"
   ]
  },
  {
   "cell_type": "markdown",
   "metadata": {},
   "source": [
    "## Exercice 1:\n",
    ">On considère le polynôme $p(x) = (x - 1)^6$. \n",
    ">\n",
    ">En développant on\n",
    ">peut écrire ce même polynôme sous la forme\n",
    ">$f(x) = x^6 - 6x^5 + 15x^4 - 20x^3 + 15x^2 - 6x + 1.$\n",
    ">\n",
    ">1) Avec Matlab évaluer $p(x)$ et $f(x)$ pour $x$ allant de $.998$ à\n",
    ">$1.002$ en choisissant des pas de $.0001$.\n",
    ">\n",
    ">2) Faire un graphique de $f(x)$ et $p(x)$. Commenter."
   ]
  },
  {
   "cell_type": "markdown",
   "metadata": {},
   "source": [
    "### Correction : <h3>\n"
   ]
  },
  {
   "cell_type": "markdown",
   "metadata": {},
   "source": [
    "#### Question 1 :"
   ]
  },
  {
   "cell_type": "code",
   "execution_count": 2,
   "metadata": {},
   "outputs": [
    {
     "data": {
      "text/plain": [
       "64"
      ]
     },
     "execution_count": 2,
     "metadata": {},
     "output_type": "execute_result"
    }
   ],
   "source": [
    "#Expression réduite\n",
    "def p(x):\n",
    "    return (x-1)**6 # ** puissance \n",
    "p(3)"
   ]
  },
  {
   "cell_type": "code",
   "execution_count": 3,
   "metadata": {},
   "outputs": [
    {
     "data": {
      "text/plain": [
       "64"
      ]
     },
     "execution_count": 3,
     "metadata": {},
     "output_type": "execute_result"
    }
   ],
   "source": [
    "#expression developpée\n",
    "def f(x):\n",
    "    return x**6 - 6*x**5 + 15*x**4 - 20*x**3 + 15*x**2 - 6*x + 1\n",
    "f(3)"
   ]
  },
  {
   "cell_type": "code",
   "execution_count": 4,
   "metadata": {},
   "outputs": [
    {
     "name": "stdout",
     "output_type": "stream",
     "text": [
      "p(0.998)=6.400000000000034e-17 \n",
      "f(0.998)=1.7763568394002505e-15 \n"
     ]
    }
   ],
   "source": [
    "print('p({})={} '.format(0.998,p(0.998)))\n",
    "print('f({})={} '.format(0.998,f(0.998)))"
   ]
  },
  {
   "cell_type": "code",
   "execution_count": 20,
   "metadata": {},
   "outputs": [
    {
     "name": "stdout",
     "output_type": "stream",
     "text": [
      "Expression réduite\n",
      "p(i)=  6.400000000000034e-17\n",
      "p(i)=  4.70458810000019e-17\n",
      "p(i)=  3.40122240000027e-17\n",
      "p(i)=  2.4137569000002966e-17\n",
      "p(i)=  1.6777216000002883e-17\n",
      "p(i)=  1.139062500000259e-17\n",
      "p(i)=  7.52953600000219e-18\n",
      "p(i)=  4.826809000001757e-18\n",
      "p(i)=  2.985984000001342e-18\n",
      "p(i)=  1.771561000000975e-18\n",
      "p(i)=  1.0000000000006715e-18\n",
      "p(i)=  5.314410000004355e-19\n",
      "p(i)=  2.6214400000026335e-19\n",
      "p(i)=  1.1764900000014617e-19\n",
      "p(i)=  4.665600000007277e-20\n",
      "p(i)=  1.562500000003131e-20\n",
      "p(i)=  4.096000000010936e-21\n",
      "p(i)=  7.290000000027557e-22\n",
      "p(i)=  6.400000000038403e-23\n",
      "p(i)=  1.0000000000126618e-24\n",
      "p(i)=  1.1985091468012028e-94\n",
      "p(i)=  9.999999999860165e-25\n",
      "p(i)=  6.399999999953138e-23\n",
      "p(i)=  7.289999999962809e-22\n",
      "p(i)=  4.095999999983651e-21\n",
      "p(i)=  1.562499999994804e-20\n",
      "p(i)=  4.6655999999865574e-20\n",
      "p(i)=  1.1764899999969834e-19\n",
      "p(i)=  2.6214399999939023e-19\n",
      "p(i)=  5.314409999988621e-19\n",
      "p(i)=  9.99999999998007e-19\n",
      "p(i)=  1.7715609999966836e-18\n",
      "p(i)=  2.9859839999947116e-18\n",
      "p(i)=  4.826808999991864e-18\n",
      "p(i)=  7.52953599998786e-18\n",
      "p(i)=  1.1390624999982356e-17\n",
      "p(i)=  1.6777215999974943e-17\n",
      "p(i)=  2.4137568999965134e-17\n",
      "p(i)=  3.401222399995235e-17\n",
      "p(i)=  4.704588099993592e-17\n",
      "p(i)=  6.399999999991508e-17\n",
      "            \n",
      "--------------------------------------------------------------------\n",
      "            \n",
      "Expression developpée\n",
      "f(i)=  1.7763568394002505e-15\n",
      "f(i)=  1.7763568394002505e-15\n",
      "f(i)=  0.0\n",
      "f(i)=  -2.6645352591003757e-15\n",
      "f(i)=  1.7763568394002505e-15\n",
      "f(i)=  0.0\n",
      "f(i)=  -1.7763568394002505e-15\n",
      "f(i)=  8.881784197001252e-16\n",
      "f(i)=  1.7763568394002505e-15\n",
      "f(i)=  -3.552713678800501e-15\n",
      "f(i)=  0.0\n",
      "f(i)=  -2.6645352591003757e-15\n",
      "f(i)=  0.0\n",
      "f(i)=  0.0\n",
      "f(i)=  -1.7763568394002505e-15\n",
      "f(i)=  -8.881784197001252e-16\n",
      "f(i)=  0.0\n",
      "f(i)=  1.7763568394002505e-15\n",
      "f(i)=  -1.7763568394002505e-15\n",
      "f(i)=  2.6645352591003757e-15\n",
      "f(i)=  0.0\n",
      "f(i)=  -1.7763568394002505e-15\n",
      "f(i)=  -1.7763568394002505e-15\n",
      "f(i)=  -4.440892098500626e-15\n",
      "f(i)=  -1.7763568394002505e-15\n",
      "f(i)=  5.329070518200751e-15\n",
      "f(i)=  0.0\n",
      "f(i)=  -2.6645352591003757e-15\n",
      "f(i)=  1.7763568394002505e-15\n",
      "f(i)=  -3.552713678800501e-15\n",
      "f(i)=  -3.552713678800501e-15\n",
      "f(i)=  8.881784197001252e-16\n",
      "f(i)=  1.7763568394002505e-15\n",
      "f(i)=  -1.7763568394002505e-15\n",
      "f(i)=  0.0\n",
      "f(i)=  2.6645352591003757e-15\n",
      "f(i)=  0.0\n",
      "f(i)=  1.7763568394002505e-15\n",
      "f(i)=  0.0\n",
      "f(i)=  2.6645352591003757e-15\n",
      "f(i)=  1.7763568394002505e-15\n",
      "--------------------------------------------------------------------\n",
      "False\n"
     ]
    }
   ],
   "source": [
    "import numpy\n",
    "print('Expression réduite')\n",
    "for i in numpy.arange(0.998, 1.002,0.0001):\n",
    "    print('p(i)= ' , p(i))\n",
    "print('            ')\n",
    "print('--------------------------------------------------------------------')\n",
    "print('            ')\n",
    "print('Expression developpée')\n",
    "for i in numpy.arange(0.998, 1.002,0.0001):\n",
    "    print('f(i)= ' , f(i))\n",
    "print('--------------------------------------------------------------------')\n",
    "print(p(i)==f(i))"
   ]
  },
  {
   "cell_type": "markdown",
   "metadata": {},
   "source": [
    "<span style=\"color:red\"> on ne trouve pas les mêmes valeurs !!!! </span> "
   ]
  },
  {
   "cell_type": "code",
   "execution_count": 24,
   "metadata": {},
   "outputs": [
    {
     "name": "stdout",
     "output_type": "stream",
     "text": [
      "-1.3322676295501878e-15\n",
      "-2.220446049250313e-15\n",
      "0.0\n",
      "-6.661338147750939e-16\n",
      "-6.661338147750939e-16\n"
     ]
    }
   ],
   "source": [
    "import matplotlib.pyplot as plt\n",
    "import numpy as np\n",
    "\n",
    "def horner(a,z):\n",
    "    n=len(a)\n",
    "    result=a[0]\n",
    "    for i in a[1:]:\n",
    "        result=result*z+i\n",
    "    return result\n",
    "\n",
    "T=[1,-6,15,-20,15,-6,1]\n",
    "X=np.arange(0.998,1.002,0.001)\n",
    "for i in X:\n",
    "    print(horner(T,i))"
   ]
  },
  {
   "cell_type": "markdown",
   "metadata": {},
   "source": [
    "#### Question 2 :"
   ]
  },
  {
   "cell_type": "markdown",
   "metadata": {},
   "source": [
    "### <span style=\"color:green\"> graphique </span>"
   ]
  },
  {
   "cell_type": "code",
   "execution_count": 24,
   "metadata": {
    "scrolled": false
   },
   "outputs": [
    {
     "data": {
      "image/png": "[encoded data removed]",
      "text/plain": [
       "<Figure size 1080x360 with 1 Axes>"
      ]
     },
     "metadata": {
      "needs_background": "light"
     },
     "output_type": "display_data"
    }
   ],
   "source": [
    "x = np.arange(0.998, 1.002, 0.0001)\n",
    "p = lambda x:(x-1)**6 \n",
    "fig = plt.figure(1, figsize=(15, 5))\n",
    "plt.plot(x,p(x))\n",
    "f = lambda x: x**6 - 6*x**5 + 15*x**4 - 20*x**3 + 15*x**2 - 6*x + 1\n",
    "fig = plt.figure(1, figsize=(15, 10))\n",
    "plt.plot(x,f(x),'r')\n",
    "plt.xlabel('x')\n",
    "plt.ylabel('f(x)')\n",
    "plt.title('fonction dans l intervalle [0.998:0.0001:1.002] ')\n",
    "plt.legend(('p(x)', 'f(x)'))\n",
    "plt.grid(True)   \n",
    "plt.show()"
   ]
  },
  {
   "cell_type": "markdown",
   "metadata": {},
   "source": [
    "##  <h2 style=\"color:black\" > EXERCICE 2: </h2>\n",
    "\n",
    ">On considère l'équation : $$ f(x)=x^3+x^2-3x-3=0$$\n",
    ">1) Dessiner la courbe de $f$ dans l'intervalle $[-2;2]$, puis trouver des intervalles convenables pour appliquer la méthode de >bisection.\n",
    "\n",
    ">2) Utiliser un programme `dicho.m` qui permettra de trouver les solutions de l'équation $f(x)=0$ avec $eps=0.001$.\n",
    ">\n",
    ">3) Modifier le programme `dicho.m` pour qu'il donne le nombre d'itération nécessaire pour avoir la solution à $eps$ près."
   ]
  },
  {
   "cell_type": "markdown",
   "metadata": {},
   "source": [
    "### Correction : <h3>"
   ]
  },
  {
   "cell_type": "markdown",
   "metadata": {},
   "source": [
    "#### Question 1 :"
   ]
  },
  {
   "cell_type": "markdown",
   "metadata": {},
   "source": [
    "## <center><span style=\"color:green\">Méthode de dichotomie: </span> </center>\n",
    "La <span style=\"color:red\">méthode de dichotomie</span> est une méthode pour trouver une solution approchée\n",
    "à une équation $f(x)=0$. Précisément, supposons que la fonction $f$ est continue sur l'intervalle $[a,b]$,\n",
    "avec $f(a)\\leq 0$ et $f(b)\\geq 0$. On sait donc qu'il existe au moins un réel $c$ dans l'intervalle $[a,b]$\n",
    "tel que $f( c)=0$.</p>\n",
    "<hr>\n",
    "L'idée est alors d'évaluer ce que vaut $f$ au milieu de $[a,b]$, et de distinguer les deux cas suivants :\n",
    "<hr>\n",
    "<div class=liste>\n",
    "<ul>\n",
    "<li>si $f\\left(\\frac{a+b}2\\right)\\leq 0$, alors on sait qu'on a une racine dans l'intervalle $\\left[\\frac{a+b}2,b\\right]$.\n",
    "<li>sinon, $f\\left(\\frac{a+b}2\\right)> 0$ et on sait qu'on a une racine dans l'intervalle $\\left[a,\\frac{a+b}2\\right]$.\n",
    "</ul>\n",
    "</div> \n",
    "<hr>\n",
    "Ainsi, dans les deux cas, on a trouvé un intervalle de longueur moitié dans lequel est située une racine de l'équation\n",
    "$f(x)=0$. On recommence alors avec cet intervalle, et ainsi de suite jusqu'à ce qu'on trouve une approximation\n",
    "qui nous convienne.</p>\n",
    "Formellement, on définit les suites $(a_n)$ et $(b_n)$ en posant :\n",
    "<hr>\n",
    "<div class=liste>\n",
    "<ul>\n",
    "<li>$a_0=a$ et $b_0=b$.\n",
    "<li>si $f\\left(\\frac{a_n+b_n}2\\right)\\leq 0$, alors $a_{n+1}=\\frac{a_n+b_n}2$ et $b_{n+1}=b_n$.\n",
    "<li>sinon, $a_{n+1}=a_n$ et $b_{n+1}=\\frac{a_n+b_n}2$.\n",
    "</ul>\n",
    "</div>\n",
    "<hr>\n",
    "On a toujours une solution à l'équation $f(x)=0$ dans l'intervalle $[a_n,b_n]$, qui est de longueur\n",
    "$(b_n-a_n)/2^n$.\n",
    "<hr>"
   ]
  },
  {
   "cell_type": "code",
   "execution_count": 1,
   "metadata": {},
   "outputs": [
    {
     "name": "stdout",
     "output_type": "stream",
     "text": [
      "f =\n",
      "\n",
      "@(x) x .^ 3 + x .^ 2 - 3 * x - 3\n",
      "\n"
     ]
    },
    {
     "data": {
      "image/png": "[encoded data removed]",
      "text/plain": [
       "<IPython.core.display.Image object>"
      ]
     },
     "metadata": {},
     "output_type": "display_data"
    }
   ],
   "source": [
    "T=[-2:0.1:2];\n",
    "TT=linspace(-2,2,41);# subdivision de [-2,2] en 40 subdivision ( 41 ponts)\n",
    "f=@(x) x.^3+x.^2-3*x-3 \n",
    "t=[-2:0.1:2];# (2-(-2))/0.1+1 (b-a)/pas +1\n",
    "plot(t,f(t))\n",
    "title (\"solution dans [-2:2] \");\n",
    "xlabel (\"x\");\n",
    "ylabel (\"f(x)\");\n",
    "grid on"
   ]
  },
  {
   "cell_type": "markdown",
   "metadata": {},
   "source": [
    "### Daprés le graph de $f$ il existe 3 solutions :\n",
    "- $\\alpha_1 \\in ]-2;-1.5[$ \n",
    "- $\\alpha_2 \\in ]-1.5;-0.5[$ \n",
    "- $\\alpha_3 \\in ]1.5;2[$ "
   ]
  },
  {
   "cell_type": "markdown",
   "metadata": {},
   "source": [
    "## Version Python"
   ]
  },
  {
   "cell_type": "code",
   "execution_count": 1,
   "metadata": {},
   "outputs": [
    {
     "data": {
      "text/plain": [
       "[<matplotlib.lines.Line2D at 0x2b2fa723d60>]"
      ]
     },
     "execution_count": 1,
     "metadata": {},
     "output_type": "execute_result"
    },
    {
     "data": {
      "image/png": "[encoded data removed]",
      "text/plain": [
       "<Figure size 432x288 with 1 Axes>"
      ]
     },
     "metadata": {
      "needs_background": "light"
     },
     "output_type": "display_data"
    }
   ],
   "source": [
    "import matplotlib.pyplot as plt\n",
    "from numpy import linspace\n",
    "f=lambda x: x**3+x**2-3*x-3\n",
    "T=linspace(-2,2,41)\n",
    "plt.title(\"solution dans [-2:2] \");\n",
    "plt.xlabel(\"x\")\n",
    "plt.ylabel (\"f(x)\")\n",
    "plt.grid(True)\n",
    "plt.plot(T,f(T))"
   ]
  },
  {
   "cell_type": "markdown",
   "metadata": {},
   "source": [
    "#### Question 2 :"
   ]
  },
  {
   "cell_type": "code",
   "execution_count": 2,
   "metadata": {},
   "outputs": [],
   "source": [
    "def dicho(a,b,f,eps):\n",
    "    \n",
    "    while (b-a)>eps:\n",
    "        m=(a+b)/2\n",
    "        if f(m)==0:\n",
    "            return m\n",
    "        if f(a)*f(m)<0 :\n",
    "            b=m\n",
    "        else :\n",
    "            a=m\n",
    "    return m"
   ]
  },
  {
   "cell_type": "code",
   "execution_count": 3,
   "metadata": {},
   "outputs": [
    {
     "data": {
      "text/plain": [
       "-1.7314453125"
      ]
     },
     "execution_count": 3,
     "metadata": {},
     "output_type": "execute_result"
    }
   ],
   "source": [
    "f=lambda x: x**3+x**2-3*x-3\n",
    "dicho(-2,-1.5,f,0.001)"
   ]
  },
  {
   "cell_type": "markdown",
   "metadata": {},
   "source": [
    "#### Question 3 :"
   ]
  },
  {
   "cell_type": "code",
   "execution_count": 4,
   "metadata": {},
   "outputs": [],
   "source": [
    "def dichow(a,b,f,err):\n",
    "    cp=0\n",
    "    while (b-a)>err:\n",
    "        m=(a+b)/2\n",
    "        if f(m)==0:\n",
    "            return m\n",
    "        if f(a)*f(m)<0 :\n",
    "            b=m\n",
    "        else :\n",
    "            a=m\n",
    "        cp+=1\n",
    "    return m,cp"
   ]
  },
  {
   "cell_type": "code",
   "execution_count": 5,
   "metadata": {},
   "outputs": [
    {
     "data": {
      "text/plain": [
       "(-1.7314453125, 9)"
      ]
     },
     "execution_count": 5,
     "metadata": {},
     "output_type": "execute_result"
    }
   ],
   "source": [
    "f=lambda x: x**3+x**2-3*x-3\n",
    "dichow(-2,-1.5,f,0.001)"
   ]
  },
  {
   "cell_type": "markdown",
   "metadata": {},
   "source": [
    "(-1.7314453125,<span style=\"color:red\">9</span>) ==> Aprés 9 itérations on trouve la valeur de α"
   ]
  },
  {
   "cell_type": "markdown",
   "metadata": {},
   "source": [
    "<strong>Le nombre d'itération N nécéssaire à la méthode de la dichotomie pour trouver $\\alpha$ à $10^{-p}$ prés </strong>\n",
    "\n",
    "$$N \\geq E\\left(\\dfrac{\\ln(b-a)+p\\ln(10)}{\\ln(2)}\\right)+1$$"
   ]
  },
  {
   "cell_type": "markdown",
   "metadata": {},
   "source": [
    "#### Limite de la méthode <br>\n",
    "la methode de la dichotomie est tres lente .elle demande assez de calcul"
   ]
  },
  {
   "cell_type": "code",
   "execution_count": null,
   "metadata": {},
   "outputs": [],
   "source": []
  }
 ],
 "metadata": {
  "kernelspec": {
   "display_name": "Python 3",
   "language": "python",
   "name": "python3"
  },
  "language_info": {
   "codemirror_mode": {
    "name": "ipython",
    "version": 3
   },
   "file_extension": ".py",
   "mimetype": "text/x-python",
   "name": "python",
   "nbconvert_exporter": "python",
   "pygments_lexer": "ipython3",
   "version": "3.8.3"
  }
 },
 "nbformat": 4,
 "nbformat_minor": 4
}
