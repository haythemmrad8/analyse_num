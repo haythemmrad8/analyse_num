{
 "cells": [
  {
   "cell_type": "markdown",
   "metadata": {},
   "source": [
    "## exercice 1"
   ]
  },
  {
   "cell_type": "markdown",
   "metadata": {},
   "source": [
    "**Polynome d'interpolation de Lagrange** \n",
    "> Soient $(x_0,y_0), \\ldots,(x_k,y_k),\\ldots ,(x_n,k_n)$ $n+1$ points deux à deux distincts, le polynôme d'interpolation de Lagrange associés à ces points supports est défini par :\n",
    "> $$P_n(x)=\\sum_{k=0}^{n-1} y_kL_k(x)$$\n",
    "\n",
    "avec $L_{0}(x)=\\displaystyle\\frac{(x-x_1)(x-x_2)\\ldots(x-x_{n})}{(x_0-x_1)(x_0-x_2)\\ldots(x_0-x_{n})}$ et $L_{k}(x)=\\displaystyle\\frac{(x-x_1)(x-x_2)\\ldots(x-x_{k-1})(x-x_{k+1})\\ldots(x_0-x_{n})}{(x_k-x_0)(x_k-x_1)\\ldots(x_k-x_{k-1})(x_k-x_{k+1})\\ldots(x_k-x_{n})}$ pour $k\\in \\{1,\\ldots,n\\}$"
   ]
  },
  {
   "cell_type": "code",
   "execution_count": 5,
   "metadata": {},
   "outputs": [],
   "source": [
    "import numpy as np\n",
    "def PR(x,y,c):\n",
    "    s=[]\n",
    "    l=[]\n",
    "    n=len(x)\n",
    "    for i in range(n):\n",
    "        l=[ c-k for k in x ]\n",
    "        for j in range (n):\n",
    "            if j==i : \n",
    "                l[j]=1\n",
    "            else : \n",
    "                l[j]= l[j]/(x[i]-x[j])\n",
    "        s.append(y[i]*np.prod(l))\n",
    "    return np.sum(s)\n",
    "                "
   ]
  },
  {
   "cell_type": "code",
   "execution_count": 6,
   "metadata": {},
   "outputs": [
    {
     "name": "stdout",
     "output_type": "stream",
     "text": [
      "-1.0\n",
      "0.0\n",
      "2.0\n",
      "1.0\n"
     ]
    }
   ],
   "source": [
    "x=[1,2,3,4]\n",
    "y=[-1,0,2,1]\n",
    "for i in x: \n",
    "    print(PR(x,y,i))"
   ]
  },
  {
   "cell_type": "markdown",
   "metadata": {},
   "source": [
    "2) Que contient le vecteur  LL  après la fin de la boucle  kk ."
   ]
  },
  {
   "cell_type": "code",
   "execution_count": 7,
   "metadata": {},
   "outputs": [],
   "source": [
    "def PR_2(x,y,c):\n",
    "    S = [] \n",
    "    n = len(x)\n",
    "    for c in x:\n",
    "            for j in range(n):\n",
    "                L =[c-xx for xx in x]\n",
    "                for k in range(n):\n",
    "                    if (k == j):                \n",
    "                        L[k] = 1\n",
    "                    else:\n",
    "                        L[k] = L[k]/(x[j] - x[k])   \n",
    "                S.append(y[j]*np.prod(L))\n",
    "\n",
    "            return L[3]"
   ]
  },
  {
   "cell_type": "code",
   "execution_count": 8,
   "metadata": {},
   "outputs": [
    {
     "name": "stdout",
     "output_type": "stream",
     "text": [
      "1\n",
      "1\n",
      "1\n",
      "1\n"
     ]
    }
   ],
   "source": [
    "X=[1 ,2 ,3 ,4]\n",
    "Y=[-1, 0, 2 ,1]\n",
    "for i in X:\n",
    "    print(PR_2(X,Y,i))\n"
   ]
  },
  {
   "cell_type": "markdown",
   "metadata": {},
   "source": [
    "3) Utiliser cette fonction pour dessiner le graph du polynôme de Lagrange  de la fonction $f(x) = \\dfrac{1}{1 + x^2}$ aux points $x=[-1:0.1:1]$."
   ]
  },
  {
   "cell_type": "code",
   "execution_count": 9,
   "metadata": {},
   "outputs": [
    {
     "data": {
      "image/png": "[encoded data removed]",
      "text/plain": [
       "<Figure size 432x288 with 1 Axes>"
      ]
     },
     "metadata": {
      "needs_background": "light"
     },
     "output_type": "display_data"
    }
   ],
   "source": [
    "import numpy as np\n",
    "import matplotlib.pyplot as plt\n",
    "pt=[]\n",
    "x=np.arange(-1,1,0.1)\n",
    "f= lambda x:1/(1+x**2)\n",
    "y=f(x)\n",
    "t=np.linspace(-1,1,100)\n",
    "for i in range(len(t)):\n",
    "    pt.append(PR(x,y,t[i]))\n",
    "plt.plot(t,pt,\"r\",x,y,\"bo\",t,f(t),\"g\")\n",
    "plt.show()"
   ]
  },
  {
   "cell_type": "markdown",
   "metadata": {},
   "source": [
    "4) On considère la fonction $F$ suivante :\n",
    "$$\n",
    "F(h) = \\pi -\\cos \\left(\\frac{h}{2}\\right) + h \\sqrt{1-\\left(\\frac{h}{2}\\right)^2}, \\qquad\n",
    "h\\in [0,2],\n",
    "$$\n",
    "et les points d'interpolation $x_i = ih$, $0\\leq i\\leq n$, avec $ n=20$ et $h=0.1$."
   ]
  },
  {
   "cell_type": "markdown",
   "metadata": {},
   "source": [
    "4.1) Représenter sur un même graphe la fonction $F$ et $p_n$, où\n",
    " $p_n$ est le polynôme d'interpolation de Lagrange de $F$ aux\n",
    " points $x_0,\\,\\ldots,\\,x_n$."
   ]
  },
  {
   "cell_type": "markdown",
   "metadata": {},
   "source": [
    "import numpy as np\n",
    "import matplotlib.pyplot as plt\n",
    "import math\n",
    "pt=[]\n",
    "x=np.arange(0,2.5)\n",
    "f= lambda x:math.pi-math.cos(x/2)+x*math.sqrt(1-(x/2)**2)\n",
    "f1=np.vectorize(f)\n",
    "y=f1(x)\n",
    "t=np.linspace(-1,1,100)\n",
    "for i in range(len(t)):\n",
    "    pt.append(PR(x,y,t[i]))\n",
    "plt.plot(t,pt,\"r\",x,y,\"bo\",t,f1(t),\"g\")\n",
    "plt.show()"
   ]
  },
  {
   "cell_type": "code",
   "execution_count": 10,
   "metadata": {},
   "outputs": [
    {
     "data": {
      "image/png": "[encoded data removed]",
      "text/plain": [
       "<Figure size 432x288 with 1 Axes>"
      ]
     },
     "metadata": {
      "needs_background": "light"
     },
     "output_type": "display_data"
    }
   ],
   "source": [
    "import numpy as np\n",
    "import matplotlib.pyplot as plt\n",
    "import math\n",
    "pt=[]\n",
    "x=np.arange(0,2.5)\n",
    "f= lambda x:math.pi-math.cos(x/2)+x*math.sqrt(1-(x/2)**2)\n",
    "f1=np.vectorize(f)\n",
    "y=f1(x)\n",
    "t=np.linspace(-1,1,100)\n",
    "for i in range(len(t)):\n",
    "    pt.append(PR(x,y,t[i]))\n",
    "plt.plot(t,pt,\"r\",x,y,\"bo\",t,f1(t),\"g\")\n",
    "plt.show()"
   ]
  },
  {
   "cell_type": "markdown",
   "metadata": {},
   "source": [
    "2)Tracer la courbe d'erreur  (la\n",
    " fonction $F-p_n$). Qu'observer vous."
   ]
  },
  {
   "cell_type": "code",
   "execution_count": 11,
   "metadata": {},
   "outputs": [
    {
     "data": {
      "image/png": "[encoded data removed]",
      "text/plain": [
       "<Figure size 432x288 with 1 Axes>"
      ]
     },
     "metadata": {
      "needs_background": "light"
     },
     "output_type": "display_data"
    }
   ],
   "source": [
    "plt.plot(t,f1(t)-pt,\"r\")\n",
    "plt.show()"
   ]
  },
  {
   "cell_type": "code",
   "execution_count": null,
   "metadata": {},
   "outputs": [],
   "source": []
  }
 ],
 "metadata": {
  "kernelspec": {
   "display_name": "Python 3",
   "language": "python",
   "name": "python3"
  },
  "language_info": {
   "codemirror_mode": {
    "name": "ipython",
    "version": 3
   },
   "file_extension": ".py",
   "mimetype": "text/x-python",
   "name": "python",
   "nbconvert_exporter": "python",
   "pygments_lexer": "ipython3",
   "version": "3.8.3"
  }
 },
 "nbformat": 4,
 "nbformat_minor": 4
}
