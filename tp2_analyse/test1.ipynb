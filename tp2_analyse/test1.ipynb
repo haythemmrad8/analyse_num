{
 "cells": [
  {
   "cell_type": "markdown",
   "metadata": {},
   "source": [
    "## exercice 1"
   ]
  },
  {
   "cell_type": "code",
   "execution_count": 1,
   "metadata": {},
   "outputs": [],
   "source": [
    "import numpy as np\n",
    "def PR(x,y,c):\n",
    "    s=[]\n",
    "    l=[]\n",
    "    n=len(x)\n",
    "    for i in range(n):\n",
    "        l=[ c-k for k in x ]\n",
    "        for j in range (n):\n",
    "            if j==i : \n",
    "                l[j]=1\n",
    "            else : \n",
    "                l[j]= l[j]/(x[i]-x[j])\n",
    "        s.append(y[i]*np.prod(l))\n",
    "    return np.sum(s)\n",
    "                "
   ]
  },
  {
   "cell_type": "code",
   "execution_count": 2,
   "metadata": {},
   "outputs": [
    {
     "name": "stdout",
     "output_type": "stream",
     "text": [
      "-1.0\n",
      "0.0\n",
      "2.0\n",
      "1.0\n"
     ]
    }
   ],
   "source": [
    "x=[1,2,3,4]\n",
    "y=[-1,0,2,1]\n",
    "for i in x: \n",
    "    print(PR(x,y,i))"
   ]
  },
  {
   "cell_type": "markdown",
   "metadata": {},
   "source": [
    "## exercice 2"
   ]
  },
  {
   "cell_type": "code",
   "execution_count": null,
   "metadata": {},
   "outputs": [],
   "source": []
  }
 ],
 "metadata": {
  "kernelspec": {
   "display_name": "Python 3",
   "language": "python",
   "name": "python3"
  },
  "language_info": {
   "codemirror_mode": {
    "name": "ipython",
    "version": 3
   },
   "file_extension": ".py",
   "mimetype": "text/x-python",
   "name": "python",
   "nbconvert_exporter": "python",
   "pygments_lexer": "ipython3",
   "version": "3.8.3"
  }
 },
 "nbformat": 4,
 "nbformat_minor": 4
}
