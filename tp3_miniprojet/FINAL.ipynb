{
 "cells": [
  {
   "cell_type": "markdown",
   "metadata": {},
   "source": [
    "##### <center> MINISTERE DE L’ENSEIGNEMENT SUPERIEUR  ET DE LA RECHERCHE SCIENTIFIQUE <br/> UNIVERSITE DE SOUSSE </center>\n",
    "\n",
    "### <center>Institut Supérieur d’Informatique et de Technique de Communication </center>           <img src=\"isitcom.png\"> \n",
    "### <center>المعهد العالي للإعلامية و تقنيات الاتصال بحمام سوسة</center>\n",
    "\n",
    "## <center>Analyse Numerique</center>\n",
    "\n",
    "# <center> <span style=\"color:blue\">TP3 Intégration numérique\n",
    "</span></center>\n",
    "<hr>\n",
    "\n",
    "###  <center> Réalisé par : <br> Mrad Haythem  <br> 2DNI1<center> <hr>\n",
    "\n",
    "#### <center> Année Universitaire 2020 – 2021 <center>\n",
    "<hr>"
   ]
  },
  {
   "cell_type": "markdown",
   "metadata": {},
   "source": [
    "# introduction :"
   ]
  },
  {
   "cell_type": "markdown",
   "metadata": {},
   "source": [
    "Si f est une fonction continue sur un intervalle [a,b], bien souvent on ne sait pas calculer une primitive de f. Ainsi, si l'on désire obtenir la valeur de $$\\int_a^b f(t) \\,dt$$\n",
    "il faut parfois se contenter d'obtenir une valeur approchée à l'aide d'une méthode d'intégration numérique. La plupart des méthodes d'intégration numérique fonctionnent sur le même principe. On commence par couper le gros intervalle [a,b] en N plus petits intervalles [ai,ai+1], avec a1=a et aN+1=b. Puis, pour chaque intervalle [ai,ai+1]. on essaie d'approcher  $$\\int_{ai}^{ai+1} f(t) \\,dt$$"
   ]
  },
  {
   "cell_type": "markdown",
   "metadata": {},
   "source": [
    "# partie pratique :"
   ]
  },
  {
   "cell_type": "code",
   "execution_count": 1,
   "metadata": {},
   "outputs": [],
   "source": [
    "import numpy as np\n",
    "from numpy import *\n",
    "import matplotlib.pyplot as plt\n",
    "import ipywidgets as widgets\n",
    "import scipy.integrate as integrate"
   ]
  },
  {
   "cell_type": "markdown",
   "metadata": {},
   "source": [
    "# RectangleG"
   ]
  },
  {
   "cell_type": "code",
   "execution_count": 2,
   "metadata": {},
   "outputs": [],
   "source": [
    "class RectangleG ( object ) :\n",
    "    def __init__ (self , a , b , n , f ) :\n",
    "        self.a = a\n",
    "        self.b = b\n",
    "        self.x = np.linspace( a , b , n+1 )\n",
    "        self.f = f\n",
    "        self.n = n\n",
    "    def integrate ( self , f ) :\n",
    "        x= self.x\n",
    "        y= f( x )\n",
    "        h = float( x[1] - x[0] )\n",
    "        s = sum( y[ 0 : -1 ] )\n",
    "        return h * s\n",
    "    def Graph ( self , f , resolution =1001 ) :\n",
    "        xl = self.x\n",
    "        yl = f(xl)\n",
    "        xlist_fine =np.linspace( self.a , self.b , resolution )\n",
    "        for i in range ( self.n ) :\n",
    "            x_rect = [xl[ i ] , xl[ i ] , xl[ i + 1 ] , xl[i+1] , xl[ i ] ] # abscisses des sommets\n",
    "            y_rect = [0 , yl[ i ] , yl[ i ] , 0 , 0 ] # ordonnees des sommets\n",
    "            plt.plot ( x_rect , y_rect , 'r' )\n",
    "        yflist_fine = f ( xlist_fine )\n",
    "        plt.plot ( xlist_fine , yflist_fine )\n",
    "        plt.plot(xl, yl,\"bo\")\n",
    "        plt.xlabel ( 'x' )\n",
    "        plt.ylabel ( ' f ( x ) ' )\n",
    "        plt.title ( ' Methode des rectangles gauches' )"
   ]
  },
  {
   "cell_type": "markdown",
   "metadata": {},
   "source": [
    "# Trapezoidal"
   ]
  },
  {
   "cell_type": "code",
   "execution_count": 3,
   "metadata": {},
   "outputs": [],
   "source": [
    "class Trapezoidal(object):\n",
    "    def __init__(self, a, b, n, f):\n",
    "        self.a = a\n",
    "        self.b = b\n",
    "        self.x = np.linspace(a, b, n+1)\n",
    "        self.f = f\n",
    "        self.n = n\n",
    "    def integrate(self,f):\n",
    "        x=self.x\n",
    "        y=f(x)\n",
    "        h = float(x[1] - x[0])\n",
    "        s = y[0] + y[-1] + 2.0*sum(y[1:-1])\n",
    "        return h * s / 2.0\n",
    "    def Graph(self,f,resolution=1001):\n",
    "        xl = self.x\n",
    "        yl = f(xl)\n",
    "        xlist_fine=np.linspace(self.a, self.b, resolution)\n",
    "        for i in range(self.n):\n",
    "            x_rect = [xl[i], xl[i], xl[i+1], xl[i+1], xl[i]] # abscisses des sommets\n",
    "            y_rect = [0   , yl[i], yl[i+1]  , 0     , 0   ] # ordonnees des sommets\n",
    "            plt.plot(x_rect, y_rect,\"m\")\n",
    "        yflist_fine = f(xlist_fine)\n",
    "        plt.plot(xlist_fine, yflist_fine)#plot de f(x)\n",
    "        plt.plot(xl, yl,'bo')\n",
    "        plt.ylabel ( ' f ( x ) ' )\n",
    "        plt.title ( ' Methode des Trapèzes' )"
   ]
  },
  {
   "cell_type": "markdown",
   "metadata": {},
   "source": [
    "# point milieu :"
   ]
  },
  {
   "cell_type": "code",
   "execution_count": 4,
   "metadata": {},
   "outputs": [],
   "source": [
    "class PointMilieu(object):\n",
    "    def __init__(self, a, b, n, f):\n",
    "        self.a = a\n",
    "        self.b = b\n",
    "        self.x = np.linspace(a, b, n+1)\n",
    "        self.f = f\n",
    "        self.n = n\n",
    "    def integrate(self,f):\n",
    "        x=self.x\n",
    "        y=f(x)\n",
    "        h = float(x[1] - x[0])\n",
    "        s = 0\n",
    "        n=len(x)-1\n",
    "        for i in range(n):\n",
    "            s=s+f((x[i]+x[i+1])*0.5)\n",
    "        return h * s\n",
    "    def Graph(self,f,resolution=1001):\n",
    "        xl = self.x\n",
    "        yl = f(xl)\n",
    "        xlist_fine=np.linspace(self.a, self.b, resolution)\n",
    "        for i in range(self.n):\n",
    "            m=(xl[i]+xl[i+1])/2\n",
    "            x_rect = [xl[i], xl[i], xl[i+1], xl[i+1], xl[i]] # abscisses des sommets\n",
    "            y_rect = [0   , f(m), f(m)  , 0     , 0   ] # ordonnees des sommets\n",
    "            plt.plot(x_rect, y_rect,\"r\")\n",
    "            plt.plot(m,f(m),\"bo\")\n",
    "        yflist_fine = f(xlist_fine)\n",
    "        plt.plot(xlist_fine, yflist_fine)#plot de f(x)\n",
    "        plt.xlabel ( ' x ' )\n",
    "        plt.ylabel ( ' f ( x ) ' )\n",
    "        plt.title ( ' Methode des milieu' )"
   ]
  },
  {
   "cell_type": "markdown",
   "metadata": {},
   "source": [
    "# Simpson :"
   ]
  },
  {
   "cell_type": "code",
   "execution_count": 5,
   "metadata": {},
   "outputs": [],
   "source": [
    "\n",
    "class Simpson(object):\n",
    "    def __init__(self, a, b, n, f):\n",
    "        self.a = a\n",
    "        self.b = b\n",
    "        self.x = np.linspace(a, b, n+1)\n",
    "        self.f = f\n",
    "        self.n = n\n",
    "    def integrate ( self , f ) :\n",
    "        x= self.x\n",
    "        y= f(x)\n",
    "        h = float(x[2] - x[1])\n",
    "        n = len(x) - 1\n",
    "        if n % 2 == 1:\n",
    "            n=n-1\n",
    "        s = y[0] + y[n] + 4.0 * sum(y[1:-1:2]) + 2.0 * sum(y[2:-2:2])\n",
    "        return h * s / 3.0\n",
    "    def Graph(self , f , resolution =1001):\n",
    "        xl = self.x\n",
    "        yl = f(xl)\n",
    "        xlist_fine =np.linspace( self.a , self.b , resolution )\n",
    "        for i in range ( self.n ) :\n",
    "            xx = np.linspace(xl[ i ],xl[i + 1],resolution)\n",
    "            m = (xl[i]+ xl[i + 1])/ 2\n",
    "            a = xl[i]\n",
    "            b = xl[i +1]\n",
    "            l0  =(xx-m)/(a-m)*(xx-b)/(a-b)\n",
    "            l1 =(xx-a)/(m-a)*(xx-b)/(m-b)\n",
    "            l2 =(xx-a)/(b-a)*(xx-m)/(b-m)\n",
    "            P = f(a)*l0 + f(m)*l1 + f(b)*l2\n",
    "        plt.plot( xx , P , \"r\")\n",
    "        yflist_fine = f(xlist_fine)\n",
    "        plt.plot(xlist_fine, yflist_fine,\"g\")#plot de f(x)\n",
    "        plt.plot(xl, yl,'bo')#point support\n",
    "        plt.ylabel ( ' f ( x ) ' )\n",
    "        plt.title ( ' Simpson' )"
   ]
  },
  {
   "cell_type": "markdown",
   "metadata": {},
   "source": [
    "# interface :"
   ]
  },
  {
   "cell_type": "code",
   "execution_count": 16,
   "metadata": {},
   "outputs": [],
   "source": [
    "select=widgets.Dropdown(\n",
    "    options=[('Méthode des rectangles gauches',1),('Méthode des trapézes',2),('Méthode des Simpson',3),\n",
    "           ('Méthode des points Milieux',4)],\n",
    "    value=2,\n",
    "    description='Méthode:',\n",
    ")\n",
    "\n",
    "fonction=widgets.Dropdown(\n",
    "    options=['cos(x)','sin(x)','1/(1+x**2)','x**2-x+5'],\n",
    "    value='sin(x)',\n",
    "    description='Fonction:',\n",
    "    disabled=False,\n",
    ")\n",
    "\n",
    "text_a = widgets.Text(value='-1', description='a', continuous_update=False)\n",
    "text_b = widgets.Text(value='1' , description='b', continuous_update=False)\n",
    "text_n = widgets.Text(value='' , description='n', continuous_update=False)\n",
    "text_R=widgets.Text(value='' , description='IRect_n', continuous_update=True)\n",
    "text_T=widgets.Text(value='' , description='ITrapeze_n', continuous_update=False)\n",
    "text_M=widgets.Text(value='' , description='IMilieu_n', continuous_update=False)\n",
    "text_S=widgets.Text(value='' , description='ISimpson_n', continuous_update=False)\n",
    "erreur_R = widgets.Text(value='' , description='E_Rectabgle', continuous_update=False)\n",
    "erreur_T= widgets.Text(value='' , description='E_Trapeze', continuous_update=False)\n",
    "erreur_S = widgets.Text(value='' , description='E_Simpson', continuous_update=False)\n",
    "erreur_M = widgets.Text(value='' , description='E_Milieu', continuous_update=False)\n",
    "button1=widgets.Button(description=\"Afficher\")\n",
    "\n",
    "\n",
    "\n",
    "def sim2(b):\n",
    "    f=lambda x:eval(fonction.value)\n",
    "    plt.clf()\n",
    "    R=RectangleG(float(text_a.value),float(text_b.value),int(text_n.value),f)\n",
    "    T=Trapezoidal(float(text_a.value),float(text_b.value),int(text_n.value),f)\n",
    "    M=PointMilieu(float(text_a.value),float(text_b.value),int(text_n.value),f)\n",
    "    S=Simpson(float(text_a.value),float(text_b.value),int(text_n.value),f)\n",
    "    result,e = integrate.quad(f, float(text_a.value), float(text_b.value))\n",
    "    fig.add_subplot(221)\n",
    "    R.Graph(f)  \n",
    "    fig.add_subplot(222)    \n",
    "    T.Graph(f)\n",
    "    fig.add_subplot(223)\n",
    "    M.Graph(f)\n",
    "    fig.add_subplot(224)\n",
    "    S.Graph(f)\n",
    "    plt.tight_layout(pad=0.4, w_pad=0.5, h_pad=1.0)\n",
    "    plt.show()\n",
    "    text_R.value=str(R.integrate(f))\n",
    "    text_R.description=\"IRectangle_\"+text_n.value\n",
    "    text_T.value=str(T.integrate(f))\n",
    "    text_T.description=\"ITrapeze_\"+text_n.value\n",
    "    text_S.value=str(S.integrate(f))\n",
    "    text_S.description=\"ISimpson_\"+text_n.value\n",
    "    text_M.value=str(M.integrate(f))\n",
    "    text_M.description=\"IMilieu_\"+text_n.value\n",
    "    erreur_R.value=str(result-R.integrate(f))\n",
    "    erreur_T.value=str(result-T.integrate(f))\n",
    "    erreur_S.value=str(result-S.integrate(f))\n",
    "    erreur_M.value=str(result-M.integrate(f))\n",
    "def update_a(change):\n",
    "    change.new\n",
    "def update_b(change):\n",
    "    change.new\n",
    "def update_n(change):\n",
    "    change.new\n",
    "def update_f(change):\n",
    "    change.new\n",
    "\n",
    "button1.on_click(sim2)\n",
    "\n",
    "text_a.observe(update_a,'value')\n",
    "text_b.observe(update_b,'value')"
   ]
  },
  {
   "cell_type": "code",
   "execution_count": 23,
   "metadata": {},
   "outputs": [
    {
     "data": {
      "image/png": "[encoded data removed]",
      "text/plain": [
       "<Figure size 432x288 with 1 Axes>"
      ]
     },
     "metadata": {
      "needs_background": "light"
     },
     "output_type": "display_data"
    }
   ],
   "source": [
    "output = widgets.Output()\n",
    "with output:\n",
    "    fig, ax = plt.subplots(constrained_layout=True, figsize=(6, 4))\n",
    "     \n",
    "fig.canvas.toolbar_position = 'bottom'\n"
   ]
  },
  {
   "cell_type": "code",
   "execution_count": 21,
   "metadata": {},
   "outputs": [
    {
     "data": {
      "application/vnd.jupyter.widget-view+json": {
       "model_id": "bee210c7c0c046e7af813185727bff49",
       "version_major": 2,
       "version_minor": 0
      },
      "text/plain": [
       "HBox(children=(VBox(children=(Dropdown(description='Fonction:', index=2, options=('cos(x)', 'sin(x)', '1/(1+x*…"
      ]
     },
     "metadata": {},
     "output_type": "display_data"
    },
    {
     "data": {
      "image/png": "[encoded data removed]",
      "text/plain": [
       "<Figure size 432x288 with 1 Axes>"
      ]
     },
     "metadata": {
      "needs_background": "light"
     },
     "output_type": "display_data"
    }
   ],
   "source": [
    "def make_box():\n",
    "    box1=widgets.VBox([fonction,text_a,text_b,text_n,button1,text_R,erreur_R,text_T,erreur_T,text_M,erreur_M,text_S,erreur_S])\n",
    "    box2=widgets.VBox([output])\n",
    "    return box1\n",
    "layout=widgets.Layout(\n",
    "    border='solid 2px gray',\n",
    "    margin='0px 5px 5px 0px'\n",
    ")\n",
    "box1=make_box()\n",
    "box1.layout=layout\n",
    "#box2.layout=layout\n",
    "widgets.HBox([box1,output])"
   ]
  },
  {
   "cell_type": "code",
   "execution_count": null,
   "metadata": {},
   "outputs": [],
   "source": []
  }
 ],
 "metadata": {
  "kernelspec": {
   "display_name": "Python 3",
   "language": "python",
   "name": "python3"
  },
  "language_info": {
   "codemirror_mode": {
    "name": "ipython",
    "version": 3
   },
   "file_extension": ".py",
   "mimetype": "text/x-python",
   "name": "python",
   "nbconvert_exporter": "python",
   "pygments_lexer": "ipython3",
   "version": "3.8.3"
  }
 },
 "nbformat": 4,
 "nbformat_minor": 4
}
